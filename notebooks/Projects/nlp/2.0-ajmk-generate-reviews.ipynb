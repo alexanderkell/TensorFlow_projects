{
 "cells": [
  {
   "cell_type": "code",
   "execution_count": 42,
   "metadata": {},
   "outputs": [],
   "source": [
    "import pandas as pd\n",
    "import numpy as np\n",
    "import matplotlib.pyplot as plt\n",
    "import seaborn as sns\n",
    "import tensorflow as tf\n",
    "\n",
    "from tensorflow.keras.preprocessing.text import Tokenizer\n",
    "from tensorflow.keras.preprocessing.sequence import pad_sequences"
   ]
  },
  {
   "cell_type": "code",
   "execution_count": 43,
   "metadata": {},
   "outputs": [],
   "source": [
    "test = pd.read_csv(\"../../../data/external/Yelp/test.csv\")\n",
    "train = pd.read_csv(\"../../../data/external/Yelp/train.csv\")"
   ]
  },
  {
   "cell_type": "code",
   "execution_count": 44,
   "metadata": {},
   "outputs": [
    {
     "name": "stderr",
     "output_type": "stream",
     "text": [
      "/var/folders/nc/v4p72y255nn_y662tn1s3yv00000gp/T/ipykernel_42540/41653911.py:8: FutureWarning: The default value of regex will change from True to False in a future version.\n",
      "  df[\"text\"] = df[\"text\"].str.replace(\"[^\\w\\s]\", \"\")\n",
      "/var/folders/nc/v4p72y255nn_y662tn1s3yv00000gp/T/ipykernel_42540/41653911.py:8: SettingWithCopyWarning: \n",
      "A value is trying to be set on a copy of a slice from a DataFrame.\n",
      "Try using .loc[row_indexer,col_indexer] = value instead\n",
      "\n",
      "See the caveats in the documentation: https://pandas.pydata.org/pandas-docs/stable/user_guide/indexing.html#returning-a-view-versus-a-copy\n",
      "  df[\"text\"] = df[\"text\"].str.replace(\"[^\\w\\s]\", \"\")\n",
      "/var/folders/nc/v4p72y255nn_y662tn1s3yv00000gp/T/ipykernel_42540/41653911.py:10: FutureWarning: The default value of regex will change from True to False in a future version.\n",
      "  df[\"text\"] = df[\"text\"].str.replace(\"\\d+\", \"\")\n",
      "/var/folders/nc/v4p72y255nn_y662tn1s3yv00000gp/T/ipykernel_42540/41653911.py:10: SettingWithCopyWarning: \n",
      "A value is trying to be set on a copy of a slice from a DataFrame.\n",
      "Try using .loc[row_indexer,col_indexer] = value instead\n",
      "\n",
      "See the caveats in the documentation: https://pandas.pydata.org/pandas-docs/stable/user_guide/indexing.html#returning-a-view-versus-a-copy\n",
      "  df[\"text\"] = df[\"text\"].str.replace(\"\\d+\", \"\")\n",
      "/var/folders/nc/v4p72y255nn_y662tn1s3yv00000gp/T/ipykernel_42540/41653911.py:12: SettingWithCopyWarning: \n",
      "A value is trying to be set on a copy of a slice from a DataFrame.\n",
      "Try using .loc[row_indexer,col_indexer] = value instead\n",
      "\n",
      "See the caveats in the documentation: https://pandas.pydata.org/pandas-docs/stable/user_guide/indexing.html#returning-a-view-versus-a-copy\n",
      "  df[\"text\"] = df[\"text\"].str.lower()\n",
      "/var/folders/nc/v4p72y255nn_y662tn1s3yv00000gp/T/ipykernel_42540/41653911.py:14: FutureWarning: The default value of regex will change from True to False in a future version.\n",
      "  df[\"text\"] = df[\"text\"].str.replace(\"\\s+\", \" \")\n",
      "/var/folders/nc/v4p72y255nn_y662tn1s3yv00000gp/T/ipykernel_42540/41653911.py:14: SettingWithCopyWarning: \n",
      "A value is trying to be set on a copy of a slice from a DataFrame.\n",
      "Try using .loc[row_indexer,col_indexer] = value instead\n",
      "\n",
      "See the caveats in the documentation: https://pandas.pydata.org/pandas-docs/stable/user_guide/indexing.html#returning-a-view-versus-a-copy\n",
      "  df[\"text\"] = df[\"text\"].str.replace(\"\\s+\", \" \")\n",
      "/var/folders/nc/v4p72y255nn_y662tn1s3yv00000gp/T/ipykernel_42540/41653911.py:16: SettingWithCopyWarning: \n",
      "A value is trying to be set on a copy of a slice from a DataFrame.\n",
      "Try using .loc[row_indexer,col_indexer] = value instead\n",
      "\n",
      "See the caveats in the documentation: https://pandas.pydata.org/pandas-docs/stable/user_guide/indexing.html#returning-a-view-versus-a-copy\n",
      "  df[\"text\"] = df[\"text\"].str.strip()\n"
     ]
    },
    {
     "data": {
      "text/plain": [
       "array(['unfortunately the frustration of being dr goldbergs patient is a repeat of the experience ive had with so many other doctors in nyc good doctor terrible staff it seems that his staff simply never answers the phone it usually takes hours of repeated calling to get an answer who has time for that or wants to deal with it i have run into this problem with many other doctors and i just dont get it you have office workers you have patients with medical needs why isnt anyone answering the phone its incomprehensible and not work the aggravation its with regret that i feel that i have to give dr goldberg stars',\n",
       "       'been going to dr goldberg for over years i think i was one of his st patients when he started at mhmg hes been great over the years and is really all about the big picture it is because of him not my now former gyn dr markoff that i found out i have fibroids he explores all options with you and is very patient and understanding he doesnt judge and asks all the right questions very thorough and wants to be kept in the loop on every aspect of your medical health and your life',\n",
       "       'i dont know what dr goldberg was like before moving to arizona but let me tell you stay away from this doctor and this office i was going to dr johnson before he left and goldberg took over when johnson left he is not a caring doctor he is only interested in the copay and having you come in for medication refills every month he will not give refills and could less about patientss financial situations trying to get your days mail away pharmacy prescriptions through this guy is a joke and to make matters even worse his office staff is incompetent of the time when you call the office theyll put you through to a voice mail that no one ever answers or returns your call both my adult children and husband have decided to leave this practice after experiencing such frustration the entire office has an attitude like they are doing you a favor give me a break stay away from this doc and the practice you deserve better and they will not be there when you really need them i have never felt compelled to write a bad review about anyone until i met this pathetic excuse for a doctor who is all about the money',\n",
       "       'im writing this review to give you a heads up before you see this doctor the office staff and administration are very unprofessional i left a message with multiple people regarding my bill and no one ever called me back i had to hound them to get an answer about my bill nnsecond and most important make sure your insurance is going to cover dr goldbergs visits and blood work he recommended to me that i get a physical and he knew i was a student because i told him i got the physical done later i found out my health insurance doesnt pay for preventative visits i received an bill for the blood work i cant pay for my bill because im a student and dont have any cash flow at this current time i cant believe the doctor wouldnt give me a heads up to make sure my insurance would cover work that wasnt necessary and was strictly preventative the office cant do anything to help me cover the bill in addition the office staff said the onus is on me to make sure my insurance covers visits frustrating situation',\n",
       "       'all the food is great here but the best thing they have is their wings their wings are simply fantastic the wet cajun are by the best most popular i also like the seasoned salt wings wing night is monday wednesday night whole wingsnnthe dining area is nice very family friendly the bar is very nice is well this place is truly a yinzers dream pittsburgh dad would love this place nat',\n",
       "       'wing sauce is like water pretty much a lot of butter and some hot sauce franks red hot maybe the whole wings are good size and crispy but for a wing the sauce could be better the hot and extra hot are about the same flavorheat the fish sandwich is good and is a large portion sides are decent',\n",
       "       'owning a driving range inside the city limits is like a license to print money i dont think i ask much out of a driving range decent mats clean balls and accessible hours hell you need even less people now with the advent of the machine that doles out the balls this place has none of them it is april and there are no grass tees yet btw they opened for the season this week although it has been golfing weather for a month the mats look like the carpet at my year old aunt irenes house worn and thread bare lets talk about the hours this place is equipped with lights yet they only sell buckets of balls until it is still light out finally lets you have the pit to hit into when i arrived i wasnt sure if this was a driving range or an excavation site for a mastodon or a strip mining operation there is no grass on the range just mud makes it a good tool to figure out how far you actually are hitting the ball oh they are cash only alsonnbottom line this place sucks the best hope is that the owner sells it to someone that actually wants to make money and service golfers in pittsburgh',\n",
       "       'this place is absolute garbage half of the tees are not available including all the grass tees it is cash only and they sell the last bucket at despite having lights and if you finish even a minute after dont plan on getting a drink the vending machines are sold out of course and they sell drinks inside but close the drawers at on the dot there are weeds grown all over the place i noticed some sort of batting cage but it looks like those are out of order as well someone should buy this place and turn it into what it should be',\n",
       "       'before i finally made it over to this range i heard the same thing from most people its just fine to go work on your swing i had such a low expectation i was pleasantly surprised nnits a fairly big range if you are familiar with scallys in moon it seems like it has almost as many tees though its not nearly as nice a facility nnthe guys in the pro shop were two of the friendlier guys ive come across at ranges or at courses yards were indeed marked and there are some targets to aim for and even some hazards to aim away from nna big red flag to me was the extra charge to hit off the grass i am no range expert but this is the th one ive been to and the first ive seen of that sort of nickel and dimingnnprice for the golf balls was reasonable and i do plan to be back every week until they close up in october for the season hopefully since its for sale it will reopen as a golf facility again',\n",
       "       'i drove by yesterday to get a sneak peak it reopens on july th and i cant wait to take my kids the new range looks amazing the entire range appears to be turf which may or many not help your game but it looks really nice the tee boxes look state of the art and the club house looks like something youll see on a newer course cant wait to experience it'],\n",
       "      dtype=object)"
      ]
     },
     "execution_count": 44,
     "metadata": {},
     "output_type": "execute_result"
    }
   ],
   "source": [
    "def tokenize_corpus(corpus, num_words=1000, oov_token=\"<OOV>\"):\n",
    "    tokenizer = Tokenizer(num_words=num_words, oov_token=oov_token)\n",
    "    tokenizer.fit_on_texts(corpus)\n",
    "    return tokenizer\n",
    "\n",
    "def create_review_corpus(df):\n",
    "    # remove punctuation\n",
    "    df[\"text\"] = df[\"text\"].str.replace(\"[^\\w\\s]\", \"\")\n",
    "    # remove numbers\n",
    "    df[\"text\"] = df[\"text\"].str.replace(\"\\d+\", \"\")\n",
    "    # make lowercase\n",
    "    df[\"text\"] = df[\"text\"].str.lower()\n",
    "    # make one long line\n",
    "    df[\"text\"] = df[\"text\"].str.replace(\"\\s+\", \" \")\n",
    "    # remove leading and trailing whitespace\n",
    "    df[\"text\"] = df[\"text\"].str.strip()\n",
    "    # remove any empty reviews\n",
    "    df = df[df[\"text\"] != \"\"]\n",
    "\n",
    "    return df[\"text\"].values\n",
    "\n",
    "create_review_corpus(train[:10])\n",
    "\n",
    "\n"
   ]
  },
  {
   "cell_type": "code",
   "execution_count": 45,
   "metadata": {},
   "outputs": [
    {
     "name": "stdout",
     "output_type": "stream",
     "text": [
      "29.522418806660568\n"
     ]
    },
    {
     "name": "stderr",
     "output_type": "stream",
     "text": [
      "/var/folders/nc/v4p72y255nn_y662tn1s3yv00000gp/T/ipykernel_42540/41653911.py:8: FutureWarning: The default value of regex will change from True to False in a future version.\n",
      "  df[\"text\"] = df[\"text\"].str.replace(\"[^\\w\\s]\", \"\")\n",
      "/var/folders/nc/v4p72y255nn_y662tn1s3yv00000gp/T/ipykernel_42540/41653911.py:8: SettingWithCopyWarning: \n",
      "A value is trying to be set on a copy of a slice from a DataFrame.\n",
      "Try using .loc[row_indexer,col_indexer] = value instead\n",
      "\n",
      "See the caveats in the documentation: https://pandas.pydata.org/pandas-docs/stable/user_guide/indexing.html#returning-a-view-versus-a-copy\n",
      "  df[\"text\"] = df[\"text\"].str.replace(\"[^\\w\\s]\", \"\")\n",
      "/var/folders/nc/v4p72y255nn_y662tn1s3yv00000gp/T/ipykernel_42540/41653911.py:10: FutureWarning: The default value of regex will change from True to False in a future version.\n",
      "  df[\"text\"] = df[\"text\"].str.replace(\"\\d+\", \"\")\n",
      "/var/folders/nc/v4p72y255nn_y662tn1s3yv00000gp/T/ipykernel_42540/41653911.py:10: SettingWithCopyWarning: \n",
      "A value is trying to be set on a copy of a slice from a DataFrame.\n",
      "Try using .loc[row_indexer,col_indexer] = value instead\n",
      "\n",
      "See the caveats in the documentation: https://pandas.pydata.org/pandas-docs/stable/user_guide/indexing.html#returning-a-view-versus-a-copy\n",
      "  df[\"text\"] = df[\"text\"].str.replace(\"\\d+\", \"\")\n",
      "/var/folders/nc/v4p72y255nn_y662tn1s3yv00000gp/T/ipykernel_42540/41653911.py:12: SettingWithCopyWarning: \n",
      "A value is trying to be set on a copy of a slice from a DataFrame.\n",
      "Try using .loc[row_indexer,col_indexer] = value instead\n",
      "\n",
      "See the caveats in the documentation: https://pandas.pydata.org/pandas-docs/stable/user_guide/indexing.html#returning-a-view-versus-a-copy\n",
      "  df[\"text\"] = df[\"text\"].str.lower()\n",
      "/var/folders/nc/v4p72y255nn_y662tn1s3yv00000gp/T/ipykernel_42540/41653911.py:14: FutureWarning: The default value of regex will change from True to False in a future version.\n",
      "  df[\"text\"] = df[\"text\"].str.replace(\"\\s+\", \" \")\n",
      "/var/folders/nc/v4p72y255nn_y662tn1s3yv00000gp/T/ipykernel_42540/41653911.py:14: SettingWithCopyWarning: \n",
      "A value is trying to be set on a copy of a slice from a DataFrame.\n",
      "Try using .loc[row_indexer,col_indexer] = value instead\n",
      "\n",
      "See the caveats in the documentation: https://pandas.pydata.org/pandas-docs/stable/user_guide/indexing.html#returning-a-view-versus-a-copy\n",
      "  df[\"text\"] = df[\"text\"].str.replace(\"\\s+\", \" \")\n",
      "/var/folders/nc/v4p72y255nn_y662tn1s3yv00000gp/T/ipykernel_42540/41653911.py:16: SettingWithCopyWarning: \n",
      "A value is trying to be set on a copy of a slice from a DataFrame.\n",
      "Try using .loc[row_indexer,col_indexer] = value instead\n",
      "\n",
      "See the caveats in the documentation: https://pandas.pydata.org/pandas-docs/stable/user_guide/indexing.html#returning-a-view-versus-a-copy\n",
      "  df[\"text\"] = df[\"text\"].str.strip()\n"
     ]
    },
    {
     "name": "stdout",
     "output_type": "stream",
     "text": [
      "10000\n"
     ]
    }
   ],
   "source": [
    "# get reviews which are shorter than 50 words\n",
    "short_reviews = train[train[\"text\"].str.split().str.len() < 50]\n",
    "# print average length of short reviews\n",
    "print(short_reviews[\"text\"].str.split().str.len().mean())\n",
    "\n",
    "test_review_corpus = create_review_corpus(short_reviews[:10000])\n",
    "test_tokenizer = tokenize_corpus(test_review_corpus, num_words=10000, oov_token=\"<OOV>\")\n",
    "print(test_tokenizer.num_words)\n"
   ]
  },
  {
   "cell_type": "code",
   "execution_count": 46,
   "metadata": {},
   "outputs": [
    {
     "name": "stdout",
     "output_type": "stream",
     "text": [
      "28.782056411282255\n"
     ]
    }
   ],
   "source": [
    "# get average length of reviews\n",
    "review_lengths = [len(review.split()) for review in test_review_corpus]\n",
    "print(np.mean(review_lengths))"
   ]
  },
  {
   "cell_type": "code",
   "execution_count": 61,
   "metadata": {},
   "outputs": [],
   "source": [
    "# get n_grams\n",
    "def get_n_grams(corpus, tokenizer, length_of_input):\n",
    "    n_grams = []\n",
    "    for review in corpus:\n",
    "        tokens = tokenizer.texts_to_sequences([review])[0]\n",
    "        for i in range(len(tokens)+1):\n",
    "            n_grams.append(tokens[:i+1])\n",
    "    \n",
    "    # pad sequences\n",
    "    n_grams = pad_sequences(n_grams, maxlen=length_of_input, padding=\"pre\")\n",
    "\n",
    "    # split sequences by input and output\n",
    "    n_grams = np.array(n_grams)\n",
    "    X = n_grams[:,:-1]\n",
    "    y = n_grams[:,-1]\n",
    "    y = tf.keras.utils.to_categorical(y, num_classes=tokenizer.num_words)\n",
    "\n",
    "    return X, y\n",
    "\n",
    "# max_length_of_input = max([len(i) for i in test_review_corpus])\n",
    "max_length_of_input = 50\n",
    "inputs, outputs = get_n_grams(test_review_corpus, test_tokenizer, length_of_input=max_length_of_input)\n"
   ]
  },
  {
   "cell_type": "code",
   "execution_count": 62,
   "metadata": {},
   "outputs": [
    {
     "name": "stdout",
     "output_type": "stream",
     "text": [
      "(297767, 49)\n",
      "(297767, 10000)\n"
     ]
    }
   ],
   "source": [
    "print(inputs.shape)\n",
    "print(outputs.shape)"
   ]
  },
  {
   "cell_type": "code",
   "execution_count": 63,
   "metadata": {},
   "outputs": [
    {
     "name": "stdout",
     "output_type": "stream",
     "text": [
      "Epoch 1/100\n",
      "7445/7445 [==============================] - 384s 51ms/step - loss: 6.3981 - accuracy: 0.0657 - val_loss: 5.9125 - val_accuracy: 0.1016\n",
      "Epoch 2/100\n",
      "7445/7445 [==============================] - 353s 47ms/step - loss: 5.8688 - accuracy: 0.1102 - val_loss: 5.7062 - val_accuracy: 0.1225\n",
      "Epoch 3/100\n",
      "7445/7445 [==============================] - 372s 50ms/step - loss: 5.6168 - accuracy: 0.1233 - val_loss: 5.6343 - val_accuracy: 0.1325\n",
      "Epoch 4/100\n",
      "7445/7445 [==============================] - 364s 49ms/step - loss: 5.4572 - accuracy: 0.1321 - val_loss: 5.5982 - val_accuracy: 0.1384\n",
      "Epoch 5/100\n",
      "7445/7445 [==============================] - 370s 50ms/step - loss: 5.3423 - accuracy: 0.1386 - val_loss: 5.5925 - val_accuracy: 0.1462\n",
      "Epoch 6/100\n",
      "7445/7445 [==============================] - 389s 52ms/step - loss: 5.2533 - accuracy: 0.1444 - val_loss: 5.5859 - val_accuracy: 0.1479\n",
      "Epoch 7/100\n",
      "7445/7445 [==============================] - 361s 48ms/step - loss: 5.1780 - accuracy: 0.1486 - val_loss: 5.6278 - val_accuracy: 0.1498\n",
      "Epoch 8/100\n",
      "7445/7445 [==============================] - 301s 40ms/step - loss: 5.1191 - accuracy: 0.1524 - val_loss: 5.6220 - val_accuracy: 0.1500\n",
      "Epoch 9/100\n",
      "7445/7445 [==============================] - 290s 39ms/step - loss: 5.0690 - accuracy: 0.1555 - val_loss: 5.6488 - val_accuracy: 0.1518\n",
      "Epoch 10/100\n",
      "7445/7445 [==============================] - 306s 41ms/step - loss: 5.0245 - accuracy: 0.1591 - val_loss: 5.6806 - val_accuracy: 0.1516\n",
      "Epoch 11/100\n",
      "7445/7445 [==============================] - 363s 49ms/step - loss: 4.9840 - accuracy: 0.1615 - val_loss: 5.6893 - val_accuracy: 0.1523\n",
      "Epoch 12/100\n",
      "7445/7445 [==============================] - 338s 45ms/step - loss: 4.9497 - accuracy: 0.1644 - val_loss: 5.7236 - val_accuracy: 0.1538\n",
      "Epoch 13/100\n",
      "7445/7445 [==============================] - 278s 37ms/step - loss: 4.9166 - accuracy: 0.1676 - val_loss: 5.8277 - val_accuracy: 0.1533\n",
      "Epoch 14/100\n",
      "7445/7445 [==============================] - 289s 39ms/step - loss: 4.8930 - accuracy: 0.1688 - val_loss: 5.7885 - val_accuracy: 0.1522\n",
      "Epoch 15/100\n",
      "7445/7445 [==============================] - 289s 39ms/step - loss: 4.8693 - accuracy: 0.1707 - val_loss: 5.8252 - val_accuracy: 0.1529\n"
     ]
    }
   ],
   "source": [
    "def create_model(n_grams, num_words, max_len, embedding_dim=64):\n",
    "    model = tf.keras.Sequential([\n",
    "        tf.keras.layers.Embedding(num_words, embedding_dim, input_length=max_len-1),\n",
    "        tf.keras.layers.Bidirectional(tf.keras.layers.LSTM(64)),\n",
    "        tf.keras.layers.Dropout(0.2),\n",
    "        tf.keras.layers.Dense(64, activation=\"relu\"),\n",
    "        tf.keras.layers.Dropout(0.2),\n",
    "        tf.keras.layers.Dense(outputs.shape[1], activation=\"softmax\")\n",
    "    ])\n",
    "\n",
    "    model.compile(loss=\"categorical_crossentropy\", optimizer=\"adam\", metrics=[\"accuracy\"])\n",
    "    return model\n",
    "\n",
    "model = create_model(inputs, test_tokenizer.num_words, max_length_of_input)\n",
    "\n",
    "# Set up early stopping\n",
    "early_stopping = tf.keras.callbacks.EarlyStopping(monitor='val_accuracy', patience=3, mode='max', restore_best_weights=True)\n",
    "\n",
    "# Train the model with validation data\n",
    "history = model.fit(inputs, outputs, epochs=100, verbose=1, validation_split=0.2, callbacks=[early_stopping])\n",
    "\n",
    "# save best model\n",
    "model.save(\"../../../models/yelp/review-generator.h5\")\n"
   ]
  },
  {
   "cell_type": "code",
   "execution_count": 65,
   "metadata": {},
   "outputs": [
    {
     "name": "stdout",
     "output_type": "stream",
     "text": [
      "bad food the interior is super sundae <OOV> when the service and ambiance is large and prices who didnt waste your time i expected because i will your beat that it had a day to listen to sedona next time the sandwich to salsa thanks experience it was salad time try go\n"
     ]
    }
   ],
   "source": [
    "seed_text = \"bad food\"\n",
    "\n",
    "def generate_text(model, tokenizer, seed_text, max_len, num_words):\n",
    "    for _ in range(max_len):\n",
    "        token_list = tokenizer.texts_to_sequences([seed_text])[0]\n",
    "        token_list = pad_sequences([token_list], maxlen=max_len-1, padding=\"pre\")\n",
    "        predicted = model.predict(token_list, verbose=0)\n",
    "        predicted = np.random.choice(num_words, p=predicted[0])\n",
    "        # print(predicted)\n",
    "        output_word = \"\"\n",
    "        for word, index in tokenizer.word_index.items():\n",
    "            if index == predicted:\n",
    "                output_word = word\n",
    "                break\n",
    "        seed_text += \" \" + output_word\n",
    "    return seed_text\n",
    "\n",
    "model = tf.keras.models.load_model(\"../../../models/yelp/review-generator.h5\")\n",
    "print(generate_text(model, test_tokenizer, seed_text, max_length_of_input, test_tokenizer.num_words))"
   ]
  }
 ],
 "metadata": {
  "kernelspec": {
   "display_name": "tensorflow",
   "language": "python",
   "name": "python3"
  },
  "language_info": {
   "codemirror_mode": {
    "name": "ipython",
    "version": 3
   },
   "file_extension": ".py",
   "mimetype": "text/x-python",
   "name": "python",
   "nbconvert_exporter": "python",
   "pygments_lexer": "ipython3",
   "version": "3.10.8 (main, Nov 24 2022, 08:09:04) [Clang 14.0.6 ]"
  },
  "orig_nbformat": 4,
  "vscode": {
   "interpreter": {
    "hash": "531a190e0fe1f3eb8dd044e6962c6754294d288780aa1eba71aad9b263e3ca79"
   }
  }
 },
 "nbformat": 4,
 "nbformat_minor": 2
}
