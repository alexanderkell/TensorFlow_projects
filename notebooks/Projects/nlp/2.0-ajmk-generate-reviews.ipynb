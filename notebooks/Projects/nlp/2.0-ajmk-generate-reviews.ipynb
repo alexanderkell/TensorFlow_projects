{
 "cells": [
  {
   "cell_type": "code",
   "execution_count": 6,
   "metadata": {},
   "outputs": [
    {
     "name": "stderr",
     "output_type": "stream",
     "text": [
      "2023-01-03 15:18:38.379717: I tensorflow/core/platform/cpu_feature_guard.cc:193] This TensorFlow binary is optimized with oneAPI Deep Neural Network Library (oneDNN) to use the following CPU instructions in performance-critical operations:  AVX2 FMA\n",
      "To enable them in other operations, rebuild TensorFlow with the appropriate compiler flags.\n"
     ]
    }
   ],
   "source": [
    "import pandas as pd\n",
    "import numpy as np\n",
    "import matplotlib.pyplot as plt\n",
    "import seaborn as sns\n",
    "import tensorflow as tf\n",
    "\n",
    "from tensorflow.keras.preprocessing.text import Tokenizer\n",
    "from tensorflow.keras.preprocessing.sequence import pad_sequences"
   ]
  },
  {
   "cell_type": "code",
   "execution_count": 8,
   "metadata": {},
   "outputs": [],
   "source": [
    "test = pd.read_csv(\"../../../data/external/Yelp/test.csv\")\n",
    "train = pd.read_csv(\"../../../data/external/Yelp/train.csv\")"
   ]
  },
  {
   "cell_type": "code",
   "execution_count": 9,
   "metadata": {},
   "outputs": [
    {
     "name": "stderr",
     "output_type": "stream",
     "text": [
      "/var/folders/nc/v4p72y255nn_y662tn1s3yv00000gp/T/ipykernel_17839/457292174.py:8: FutureWarning: The default value of regex will change from True to False in a future version.\n",
      "  df[\"text\"] = df[\"text\"].str.replace(\"[^\\w\\s]\", \"\")\n",
      "/var/folders/nc/v4p72y255nn_y662tn1s3yv00000gp/T/ipykernel_17839/457292174.py:8: SettingWithCopyWarning: \n",
      "A value is trying to be set on a copy of a slice from a DataFrame.\n",
      "Try using .loc[row_indexer,col_indexer] = value instead\n",
      "\n",
      "See the caveats in the documentation: https://pandas.pydata.org/pandas-docs/stable/user_guide/indexing.html#returning-a-view-versus-a-copy\n",
      "  df[\"text\"] = df[\"text\"].str.replace(\"[^\\w\\s]\", \"\")\n",
      "/var/folders/nc/v4p72y255nn_y662tn1s3yv00000gp/T/ipykernel_17839/457292174.py:10: FutureWarning: The default value of regex will change from True to False in a future version.\n",
      "  df[\"text\"] = df[\"text\"].str.replace(\"\\d+\", \"\")\n",
      "/var/folders/nc/v4p72y255nn_y662tn1s3yv00000gp/T/ipykernel_17839/457292174.py:10: SettingWithCopyWarning: \n",
      "A value is trying to be set on a copy of a slice from a DataFrame.\n",
      "Try using .loc[row_indexer,col_indexer] = value instead\n",
      "\n",
      "See the caveats in the documentation: https://pandas.pydata.org/pandas-docs/stable/user_guide/indexing.html#returning-a-view-versus-a-copy\n",
      "  df[\"text\"] = df[\"text\"].str.replace(\"\\d+\", \"\")\n",
      "/var/folders/nc/v4p72y255nn_y662tn1s3yv00000gp/T/ipykernel_17839/457292174.py:12: SettingWithCopyWarning: \n",
      "A value is trying to be set on a copy of a slice from a DataFrame.\n",
      "Try using .loc[row_indexer,col_indexer] = value instead\n",
      "\n",
      "See the caveats in the documentation: https://pandas.pydata.org/pandas-docs/stable/user_guide/indexing.html#returning-a-view-versus-a-copy\n",
      "  df[\"text\"] = df[\"text\"].str.lower()\n",
      "/var/folders/nc/v4p72y255nn_y662tn1s3yv00000gp/T/ipykernel_17839/457292174.py:14: FutureWarning: The default value of regex will change from True to False in a future version.\n",
      "  df[\"text\"] = df[\"text\"].str.replace(\"\\s+\", \" \")\n",
      "/var/folders/nc/v4p72y255nn_y662tn1s3yv00000gp/T/ipykernel_17839/457292174.py:14: SettingWithCopyWarning: \n",
      "A value is trying to be set on a copy of a slice from a DataFrame.\n",
      "Try using .loc[row_indexer,col_indexer] = value instead\n",
      "\n",
      "See the caveats in the documentation: https://pandas.pydata.org/pandas-docs/stable/user_guide/indexing.html#returning-a-view-versus-a-copy\n",
      "  df[\"text\"] = df[\"text\"].str.replace(\"\\s+\", \" \")\n",
      "/var/folders/nc/v4p72y255nn_y662tn1s3yv00000gp/T/ipykernel_17839/457292174.py:16: SettingWithCopyWarning: \n",
      "A value is trying to be set on a copy of a slice from a DataFrame.\n",
      "Try using .loc[row_indexer,col_indexer] = value instead\n",
      "\n",
      "See the caveats in the documentation: https://pandas.pydata.org/pandas-docs/stable/user_guide/indexing.html#returning-a-view-versus-a-copy\n",
      "  df[\"text\"] = df[\"text\"].str.strip()\n"
     ]
    },
    {
     "data": {
      "text/plain": [
       "array(['unfortunately the frustration of being dr goldbergs patient is a repeat of the experience ive had with so many other doctors in nyc good doctor terrible staff it seems that his staff simply never answers the phone it usually takes hours of repeated calling to get an answer who has time for that or wants to deal with it i have run into this problem with many other doctors and i just dont get it you have office workers you have patients with medical needs why isnt anyone answering the phone its incomprehensible and not work the aggravation its with regret that i feel that i have to give dr goldberg stars',\n",
       "       'been going to dr goldberg for over years i think i was one of his st patients when he started at mhmg hes been great over the years and is really all about the big picture it is because of him not my now former gyn dr markoff that i found out i have fibroids he explores all options with you and is very patient and understanding he doesnt judge and asks all the right questions very thorough and wants to be kept in the loop on every aspect of your medical health and your life',\n",
       "       'i dont know what dr goldberg was like before moving to arizona but let me tell you stay away from this doctor and this office i was going to dr johnson before he left and goldberg took over when johnson left he is not a caring doctor he is only interested in the copay and having you come in for medication refills every month he will not give refills and could less about patientss financial situations trying to get your days mail away pharmacy prescriptions through this guy is a joke and to make matters even worse his office staff is incompetent of the time when you call the office theyll put you through to a voice mail that no one ever answers or returns your call both my adult children and husband have decided to leave this practice after experiencing such frustration the entire office has an attitude like they are doing you a favor give me a break stay away from this doc and the practice you deserve better and they will not be there when you really need them i have never felt compelled to write a bad review about anyone until i met this pathetic excuse for a doctor who is all about the money',\n",
       "       'im writing this review to give you a heads up before you see this doctor the office staff and administration are very unprofessional i left a message with multiple people regarding my bill and no one ever called me back i had to hound them to get an answer about my bill nnsecond and most important make sure your insurance is going to cover dr goldbergs visits and blood work he recommended to me that i get a physical and he knew i was a student because i told him i got the physical done later i found out my health insurance doesnt pay for preventative visits i received an bill for the blood work i cant pay for my bill because im a student and dont have any cash flow at this current time i cant believe the doctor wouldnt give me a heads up to make sure my insurance would cover work that wasnt necessary and was strictly preventative the office cant do anything to help me cover the bill in addition the office staff said the onus is on me to make sure my insurance covers visits frustrating situation',\n",
       "       'all the food is great here but the best thing they have is their wings their wings are simply fantastic the wet cajun are by the best most popular i also like the seasoned salt wings wing night is monday wednesday night whole wingsnnthe dining area is nice very family friendly the bar is very nice is well this place is truly a yinzers dream pittsburgh dad would love this place nat',\n",
       "       'wing sauce is like water pretty much a lot of butter and some hot sauce franks red hot maybe the whole wings are good size and crispy but for a wing the sauce could be better the hot and extra hot are about the same flavorheat the fish sandwich is good and is a large portion sides are decent',\n",
       "       'owning a driving range inside the city limits is like a license to print money i dont think i ask much out of a driving range decent mats clean balls and accessible hours hell you need even less people now with the advent of the machine that doles out the balls this place has none of them it is april and there are no grass tees yet btw they opened for the season this week although it has been golfing weather for a month the mats look like the carpet at my year old aunt irenes house worn and thread bare lets talk about the hours this place is equipped with lights yet they only sell buckets of balls until it is still light out finally lets you have the pit to hit into when i arrived i wasnt sure if this was a driving range or an excavation site for a mastodon or a strip mining operation there is no grass on the range just mud makes it a good tool to figure out how far you actually are hitting the ball oh they are cash only alsonnbottom line this place sucks the best hope is that the owner sells it to someone that actually wants to make money and service golfers in pittsburgh',\n",
       "       'this place is absolute garbage half of the tees are not available including all the grass tees it is cash only and they sell the last bucket at despite having lights and if you finish even a minute after dont plan on getting a drink the vending machines are sold out of course and they sell drinks inside but close the drawers at on the dot there are weeds grown all over the place i noticed some sort of batting cage but it looks like those are out of order as well someone should buy this place and turn it into what it should be',\n",
       "       'before i finally made it over to this range i heard the same thing from most people its just fine to go work on your swing i had such a low expectation i was pleasantly surprised nnits a fairly big range if you are familiar with scallys in moon it seems like it has almost as many tees though its not nearly as nice a facility nnthe guys in the pro shop were two of the friendlier guys ive come across at ranges or at courses yards were indeed marked and there are some targets to aim for and even some hazards to aim away from nna big red flag to me was the extra charge to hit off the grass i am no range expert but this is the th one ive been to and the first ive seen of that sort of nickel and dimingnnprice for the golf balls was reasonable and i do plan to be back every week until they close up in october for the season hopefully since its for sale it will reopen as a golf facility again',\n",
       "       'i drove by yesterday to get a sneak peak it reopens on july th and i cant wait to take my kids the new range looks amazing the entire range appears to be turf which may or many not help your game but it looks really nice the tee boxes look state of the art and the club house looks like something youll see on a newer course cant wait to experience it'],\n",
       "      dtype=object)"
      ]
     },
     "execution_count": 9,
     "metadata": {},
     "output_type": "execute_result"
    }
   ],
   "source": [
    "def tokenize_corpus(corpus, num_words=10000, oov_token=\"<OOV>\"):\n",
    "    tokenizer = Tokenizer(num_words=num_words, oov_token=oov_token)\n",
    "    tokenizer.fit_on_texts(corpus)\n",
    "    return tokenizer\n",
    "\n",
    "def create_review_corpus(df):\n",
    "    # remove punctuation\n",
    "    df[\"text\"] = df[\"text\"].str.replace(\"[^\\w\\s]\", \"\")\n",
    "    # remove numbers\n",
    "    df[\"text\"] = df[\"text\"].str.replace(\"\\d+\", \"\")\n",
    "    # make lowercase\n",
    "    df[\"text\"] = df[\"text\"].str.lower()\n",
    "    # make one long line\n",
    "    df[\"text\"] = df[\"text\"].str.replace(\"\\s+\", \" \")\n",
    "    # remove leading and trailing whitespace\n",
    "    df[\"text\"] = df[\"text\"].str.strip()\n",
    "    # remove any empty reviews\n",
    "    df = df[df[\"text\"] != \"\"]\n",
    "\n",
    "    return df[\"text\"].values\n",
    "\n",
    "create_review_corpus(train[:10])\n",
    "\n",
    "\n"
   ]
  },
  {
   "cell_type": "code",
   "execution_count": 12,
   "metadata": {},
   "outputs": [
    {
     "ename": "IndexError",
     "evalue": "only integers, slices (`:`), ellipsis (`...`), numpy.newaxis (`None`) and integer or boolean arrays are valid indices",
     "output_type": "error",
     "traceback": [
      "\u001b[0;31m---------------------------------------------------------------------------\u001b[0m",
      "\u001b[0;31mIndexError\u001b[0m                                Traceback (most recent call last)",
      "Cell \u001b[0;32mIn[12], line 1\u001b[0m\n\u001b[0;32m----> 1\u001b[0m test \u001b[39m=\u001b[39m create_review_corpus(test)\n\u001b[1;32m      2\u001b[0m test_tokenizer \u001b[39m=\u001b[39m tokenize_corpus(test)\n\u001b[1;32m      3\u001b[0m \u001b[39mprint\u001b[39m(test_tokenizer\u001b[39m.\u001b[39mnum_words)\n",
      "Cell \u001b[0;32mIn[9], line 8\u001b[0m, in \u001b[0;36mcreate_review_corpus\u001b[0;34m(df)\u001b[0m\n\u001b[1;32m      6\u001b[0m \u001b[39mdef\u001b[39;00m \u001b[39mcreate_review_corpus\u001b[39m(df):\n\u001b[1;32m      7\u001b[0m     \u001b[39m# remove punctuation\u001b[39;00m\n\u001b[0;32m----> 8\u001b[0m     df[\u001b[39m\"\u001b[39m\u001b[39mtext\u001b[39m\u001b[39m\"\u001b[39m] \u001b[39m=\u001b[39m df[\u001b[39m\"\u001b[39;49m\u001b[39mtext\u001b[39;49m\u001b[39m\"\u001b[39;49m]\u001b[39m.\u001b[39mstr\u001b[39m.\u001b[39mreplace(\u001b[39m\"\u001b[39m\u001b[39m[^\u001b[39m\u001b[39m\\\u001b[39m\u001b[39mw\u001b[39m\u001b[39m\\\u001b[39m\u001b[39ms]\u001b[39m\u001b[39m\"\u001b[39m, \u001b[39m\"\u001b[39m\u001b[39m\"\u001b[39m)\n\u001b[1;32m      9\u001b[0m     \u001b[39m# remove numbers\u001b[39;00m\n\u001b[1;32m     10\u001b[0m     df[\u001b[39m\"\u001b[39m\u001b[39mtext\u001b[39m\u001b[39m\"\u001b[39m] \u001b[39m=\u001b[39m df[\u001b[39m\"\u001b[39m\u001b[39mtext\u001b[39m\u001b[39m\"\u001b[39m]\u001b[39m.\u001b[39mstr\u001b[39m.\u001b[39mreplace(\u001b[39m\"\u001b[39m\u001b[39m\\\u001b[39m\u001b[39md+\u001b[39m\u001b[39m\"\u001b[39m, \u001b[39m\"\u001b[39m\u001b[39m\"\u001b[39m)\n",
      "\u001b[0;31mIndexError\u001b[0m: only integers, slices (`:`), ellipsis (`...`), numpy.newaxis (`None`) and integer or boolean arrays are valid indices"
     ]
    }
   ],
   "source": [
    "test_review_corpus = create_review_corpus(test)\n",
    "test_tokenizer = tokenize_corpus(test_review_corpus)\n",
    "print(test_tokenizer.num_words)\n"
   ]
  }
 ],
 "metadata": {
  "kernelspec": {
   "display_name": "tensorflow",
   "language": "python",
   "name": "python3"
  },
  "language_info": {
   "codemirror_mode": {
    "name": "ipython",
    "version": 3
   },
   "file_extension": ".py",
   "mimetype": "text/x-python",
   "name": "python",
   "nbconvert_exporter": "python",
   "pygments_lexer": "ipython3",
   "version": "3.10.8"
  },
  "orig_nbformat": 4,
  "vscode": {
   "interpreter": {
    "hash": "531a190e0fe1f3eb8dd044e6962c6754294d288780aa1eba71aad9b263e3ca79"
   }
  }
 },
 "nbformat": 4,
 "nbformat_minor": 2
}
